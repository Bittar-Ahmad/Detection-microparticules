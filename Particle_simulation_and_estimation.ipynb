{
 "cells": [
  {
   "cell_type": "markdown",
   "metadata": {},
   "source": [
    "### 3D Particle simulation, from H. Talbot"
   ]
  },
  {
   "cell_type": "code",
   "execution_count": 1,
   "metadata": {},
   "outputs": [
    {
     "name": "stdout",
     "output_type": "stream",
     "text": [
      "\n",
      " ____        __  __ ____ _____\n",
      "|  _ \\ _   _|  \\/  |  _ \\_   _|\n",
      "| |_) | | | | |\\/| | |_) || |\n",
      "|  __/| |_| | |  | |  _ < | |\n",
      "|_|    \\__, |_|  |_|_| \\_\\|_|\n",
      "       |___/\n",
      "\n"
     ]
    }
   ],
   "source": [
    "import matplotlib.pylab as plt\n",
    "import numpy as np\n",
    "import numpy.random\n",
    "import scipy\n",
    "import skimage\n",
    "import pymrt as mrt\n",
    "import raster_geometry as rg\n",
    "#import pymrt.geometry"
   ]
  },
  {
   "cell_type": "code",
   "execution_count": 2,
   "metadata": {},
   "outputs": [],
   "source": [
    "# constants\n",
    "def setParameters(shapeimg=350,# size of the image\n",
    "                  radius=80, # radius of HR ball\n",
    "                  step=0.1, # relative to 1\n",
    "                  slices=7,# number of 2D samples\n",
    "                  zoomfactor=0.1,\n",
    "                  approxorder=1):\n",
    "    return(shapeimg,radius,step,slices,zoomfactor,approxorder)\n",
    "\n",
    "# globals, avoid using them\n",
    "shapeimg,radius,step,slices,zoomfactor,approxorder = setParameters()"
   ]
  },
  {
   "cell_type": "code",
   "execution_count": 3,
   "metadata": {},
   "outputs": [
    {
     "data": {
      "text/plain": [
       "(350, 350, 350)"
      ]
     },
     "execution_count": 3,
     "metadata": {},
     "output_type": "execute_result"
    }
   ],
   "source": [
    "# perfect sphere\n",
    "ball1=rg.sphere(shapeimg,radius,position=[0.5,0.7,0.7]).astype(float)\n",
    "ball1.shape"
   ]
  },
  {
   "cell_type": "code",
   "execution_count": 4,
   "metadata": {},
   "outputs": [
    {
     "data": {
      "image/png": "[encoded data removed]",
      "text/plain": [
       "<Figure size 432x288 with 1 Axes>"
      ]
     },
     "metadata": {
      "needs_background": "light"
     },
     "output_type": "display_data"
    }
   ],
   "source": [
    "plt.figure()\n",
    "plt.imshow(ball1[int(shapeimg/2),:,:])\n",
    "plt.show()"
   ]
  },
  {
   "cell_type": "code",
   "execution_count": 5,
   "metadata": {},
   "outputs": [],
   "source": [
    "## Random placement, then downsample\n",
    "center=np.random.normal(loc=0.5,scale=step,size=3)"
   ]
  },
  {
   "cell_type": "code",
   "execution_count": 6,
   "metadata": {},
   "outputs": [
    {
     "name": "stdout",
     "output_type": "stream",
     "text": [
      "center= [0.32974242 0.64882752 0.45208776]\n"
     ]
    }
   ],
   "source": [
    "ball1=rg.sphere(shapeimg,radius,position=center).astype(float)\n",
    "print(\"center=\",center)"
   ]
  },
  {
   "cell_type": "code",
   "execution_count": 7,
   "metadata": {},
   "outputs": [
    {
     "data": {
      "image/png": "[encoded data removed]",
      "text/plain": [
       "<Figure size 432x288 with 1 Axes>"
      ]
     },
     "metadata": {
      "needs_background": "light"
     },
     "output_type": "display_data"
    }
   ],
   "source": [
    "from scipy.ndimage.interpolation import zoom\n",
    "smallball1=zoom(ball1,zoomfactor,order=1)\n",
    "plt.figure()\n",
    "plt.imshow(zoom(ball1[:,:,int(shapeimg*0.4)],zoomfactor,order=1))\n",
    "plt.show()"
   ]
  },
  {
   "cell_type": "code",
   "execution_count": 8,
   "metadata": {},
   "outputs": [],
   "source": [
    "import logging, sys\n",
    "logging.basicConfig(stream=sys.stderr, level=logging.DEBUG)\n",
    "#logging.debug('A debug message!')\n",
    "#logging.info('We processed %d records', len(processed_records))\n",
    "\n",
    "def sampleBall(debug=True):\n",
    "    # parameters as local variables\n",
    "    shapeimg,radius,step,slices,zoomfactor,approxorder = setParameters()\n",
    "    \n",
    "    n=slices\n",
    "    slicelist = ((np.arange(n)-(n-1)/2)*(2*radius/n)+(shapeimg/2)).astype(int)\n",
    "    logging.debug(\"slicelist=%s\",str(slicelist))\n",
    "    disklist = []\n",
    "    centers = []\n",
    "    for i in range(n):\n",
    "        # create high resolution ball randomly shifted\n",
    "        center=np.random.normal(loc=0.5,scale=step,size=3)\n",
    "        logging.debug(\"center=%s\",str(center))\n",
    "        hrBall=rg.sphere(shapeimg,radius,position=center).astype(float)\n",
    "        lrDisk=zoom(hrBall[slicelist[i],:,:],zoomfactor,order=approxorder)\n",
    "        disklist.append(lrDisk)\n",
    "        centers.append(center)\n",
    "    return(centers,slicelist, np.array(disklist))"
   ]
  },
  {
   "cell_type": "code",
   "execution_count": 9,
   "metadata": {},
   "outputs": [
    {
     "name": "stderr",
     "output_type": "stream",
     "text": [
      "DEBUG:root:slicelist=[106 129 152 175 197 220 243]\n",
      "DEBUG:root:center=[0.5676445  0.48771005 0.43393819]\n",
      "DEBUG:root:center=[0.55116656 0.45758224 0.54205563]\n",
      "DEBUG:root:center=[0.49245741 0.4883302  0.64679526]\n",
      "DEBUG:root:center=[0.55098884 0.53889425 0.36788504]\n",
      "DEBUG:root:center=[0.61257697 0.49576866 0.54745691]\n",
      "DEBUG:root:center=[0.50785405 0.38685835 0.54977529]\n",
      "DEBUG:root:center=[0.36633742 0.47392503 0.44498172]\n"
     ]
    },
    {
     "data": {
      "image/png": "[encoded data removed]",
      "text/plain": [
       "<Figure size 648x144 with 7 Axes>"
      ]
     },
     "metadata": {
      "needs_background": "light"
     },
     "output_type": "display_data"
    }
   ],
   "source": [
    "centers,slicelist,mysamples=sampleBall()\n",
    "def imshown(imlist,cmap=\"gray\"):\n",
    "    w=10\n",
    "    h=10\n",
    "    fig=plt.figure(figsize=(9, 2))\n",
    "    columns = len(imlist)\n",
    "    rows = 1\n",
    "    for i in range(1, columns*rows +1):\n",
    "        fig.add_subplot(rows, columns, i)\n",
    "        plt.imshow(imlist[i-1],cmap=cmap)\n",
    "        plt.axis('off')\n",
    "\n",
    "    plt.show()\n",
    "    \n",
    "imshown(mysamples,cmap=\"gray\")"
   ]
  },
  {
   "cell_type": "markdown",
   "metadata": {},
   "source": [
    "## Simulation and estimation"
   ]
  },
  {
   "cell_type": "code",
   "execution_count": 98,
   "metadata": {},
   "outputs": [
    {
     "name": "stdout",
     "output_type": "stream",
     "text": [
      "(350, 350, 350)\n"
     ]
    },
    {
     "data": {
      "image/png": "[encoded data removed]",
      "text/plain": [
       "<Figure size 432x288 with 1 Axes>"
      ]
     },
     "metadata": {
      "needs_background": "light"
     },
     "output_type": "display_data"
    },
    {
     "data": {
      "image/png": "[encoded data removed]",
      "text/plain": [
       "<Figure size 432x288 with 1 Axes>"
      ]
     },
     "metadata": {
      "needs_background": "light"
     },
     "output_type": "display_data"
    }
   ],
   "source": [
    "# Parameters\n",
    "\n",
    "# Dimension of the 3D image\n",
    "Nx,Ny,Nz = (350,350,350)\n",
    "\n",
    "# Radius and center of the sphere\n",
    "Radius = 80\n",
    "np.random.seed(42)\n",
    "center=np.random.normal(loc=0.5,scale=step,size=3)\n",
    "\n",
    "# Particle simulation\n",
    "# perfect sphere\n",
    "ball =rg.sphere((Nx,Ny,Nz),Radius,position=center).astype(float)\n",
    "print(ball.shape)\n",
    "\n",
    "# Zoom\n",
    "# Zoom factor\n",
    "zoomfactor = 0.1\n",
    "nx = int(zoomfactor*Nx)\n",
    "ny = int(zoomfactor*Ny)\n",
    "nz = int(zoomfactor*Nz)\n",
    "R = Radius*zoomfactor\n",
    "\n",
    "\n",
    "from scipy.ndimage.interpolation import zoom\n",
    "\n",
    "particle = zoom(ball,zoomfactor,order=1)\n",
    "\n",
    "plt.figure()\n",
    "plt.imshow(ball[:,:,int(Nz*center[2])])\n",
    "plt.scatter([Nx*center[1]],[Ny*center[0]], marker=\"x\")\n",
    "plt.show()\n",
    "\n",
    "\n",
    "plt.figure()\n",
    "plt.imshow(particle[:,:,int(nz*center[2])])\n",
    "plt.scatter([nx*center[1]],[ny*center[0]], marker=\"x\")\n",
    "plt.show()\n",
    "\n",
    "# Diagonal of the frames\n",
    "d = np.sqrt(nx**2+ny**2)\n",
    "\n",
    "# z-coordinates of the frames\n",
    "frames  = np.arange(0,nz)\n",
    "# Number of frames\n",
    "m = len(frames)\n"
   ]
  },
  {
   "cell_type": "code",
   "execution_count": 169,
   "metadata": {},
   "outputs": [
    {
     "data": {
      "text/plain": [
       "<matplotlib.image.AxesImage at 0x7fb75906bf10>"
      ]
     },
     "execution_count": 169,
     "metadata": {},
     "output_type": "execute_result"
    },
    {
     "data": {
      "image/png": "[encoded data removed]",
      "text/plain": [
       "<Figure size 1080x720 with 1 Axes>"
      ]
     },
     "metadata": {
      "needs_background": "light"
     },
     "output_type": "display_data"
    }
   ],
   "source": [
    "# Total variation 3D matrix of the image frames\n",
    "def W_mat(image, frames):\n",
    "    nx,ny,nz = image.shape\n",
    "    W = np.zeros((nx,ny,nz))\n",
    "    for i in range(nx):\n",
    "        for j in range(ny):\n",
    "            for k in frames:\n",
    "                varX = 0\n",
    "                varY = 0\n",
    "                if i==0:\n",
    "                    varX += (image[i+1,j,k]-image[i,j,k])**2\n",
    "                elif i==nx-1:\n",
    "                    varX += (image[i-1,j,k]-image[i,j,k])**2\n",
    "                else:\n",
    "                    varX += (image[i-1,j,k]-image[i,j,k])**2+(image[i+1,j,k]-image[i,j,k])**2\n",
    "                if j==0:\n",
    "                    varY += (image[i,j+1,k]-image[i,j,k])**2\n",
    "                elif j==ny-1:\n",
    "                    varY += (image[i,j-1,k]-image[i,j,k])**2\n",
    "                else:\n",
    "                    varY += (image[i,j-1,k]-image[i,j,k])**2+(image[i,j+1,k]-image[i,j,k])**2\n",
    "                W[i,j,k] = np.sqrt(varX+varY)\n",
    "    return W\n",
    "\n",
    "\n",
    "plt.figure(figsize=(15,10))\n",
    "plt.imshow(W_mat(particle,frames)[:,:,int(nz*center[2])])\n"
   ]
  },
  {
   "cell_type": "code",
   "execution_count": 111,
   "metadata": {},
   "outputs": [
    {
     "name": "stdout",
     "output_type": "stream",
     "text": [
      "7311993.319739506\n"
     ]
    }
   ],
   "source": [
    "# Objective function\n",
    "def objective_function(image,frames):\n",
    "    nx,ny,nz = image.shape\n",
    "    m = len(frames)\n",
    "    W = W_mat(image,frames)\n",
    "    def obj(alpha,beta,gamma,xi,eta):\n",
    "        res = 0\n",
    "        for k in range(m):\n",
    "            for i in range(nx):\n",
    "                for j in range(ny):\n",
    "                    res += W[i,j,frames[k]]*(-2*i*alpha -2*j*beta + xi - eta[k] +i**2+j**2)**2\n",
    "        return res/2\n",
    "    return obj\n",
    "\n",
    "\n",
    "\n",
    "obj = objective_function(particle,frames)\n",
    "print(obj(10,10,10,10,np.ones(m)))"
   ]
  },
  {
   "cell_type": "code",
   "execution_count": 112,
   "metadata": {},
   "outputs": [
    {
     "name": "stdout",
     "output_type": "stream",
     "text": [
      "[12 13 14 15 16 17 18 19 20 21 22 23 24 25 26]\n",
      "0.0\n",
      "1.0\n",
      "15\n"
     ]
    }
   ],
   "source": [
    "# Keeping only frames intersecting the sphere\n",
    "\n",
    "def intersecting_frames(image,frames):\n",
    "    start = -1\n",
    "    end = -1\n",
    "    index = 0\n",
    "    m = len(frames)\n",
    "    while end<0 and index<m:\n",
    "        M = np.amax(image[:,:,frames[index]])\n",
    "        if M>0 and start<0:\n",
    "            start = index\n",
    "        if start >= 0 and M==0:\n",
    "            end = index\n",
    "        index+=1\n",
    "    if end<0:\n",
    "        end = m\n",
    "    return frames[start:end]\n",
    "\n",
    "print(intersecting_frames(particle, frames))\n",
    "print(np.amax(particle[:,:,11]))\n",
    "print(np.amax(particle[:,:,12]))\n",
    "\n",
    "\n",
    "framesInter = intersecting_frames(particle, frames)\n",
    "mInter = len(framesInter)\n",
    "print(mInter)\n"
   ]
  },
  {
   "cell_type": "code",
   "execution_count": 115,
   "metadata": {},
   "outputs": [
    {
     "name": "stdout",
     "output_type": "stream",
     "text": [
      "None\n"
     ]
    }
   ],
   "source": [
    "# Problem with cvxpy\n",
    "import cvxpy as cp\n",
    "\n",
    "# Variables\n",
    "\n",
    "alpha = cp.Variable(1)\n",
    "beta = cp.Variable(1)\n",
    "gamma = cp.Variable(1)\n",
    "xi = cp.Variable(1)\n",
    "eta = cp.Variable(mInter)\n",
    "\n",
    "# Objective\n",
    "obj = objective_function(particle,framesInter)\n",
    "\n",
    "objective = cp.Minimize(obj(alpha,beta,gamma,xi,eta))\n",
    "\n",
    "# Constraints\n",
    "constraints = [alpha**2+beta**2-xi <= 0, xi - d**2 <= 0, -eta <= 0, eta+(gamma-framesInter)**2 - R**2 <= 0]\n",
    "\n",
    "\n",
    "# Problem\n",
    "prob = cp.Problem(objective,constraints)\n"
   ]
  },
  {
   "cell_type": "code",
   "execution_count": 168,
   "metadata": {},
   "outputs": [
    {
     "name": "stdout",
     "output_type": "stream",
     "text": [
      "\n",
      "ECOS 2.0.7 - (C) embotech GmbH, Zurich Switzerland, 2012-15. Web: www.embotech.com/ECOS\n",
      "\n",
      "It     pcost       dcost      gap   pres   dres    k/t    mu     step   sigma     IR    |   BT\n",
      " 0  +7.856e-15  -5.604e+03  +3e+06  5e-01  2e-01  1e+00  2e+02    ---    ---    2  1  - |  -  - \n",
      " 1  +6.260e+03  +3.548e+02  +3e+06  5e-01  2e-01  1e+01  2e+02  0.0545  8e-01   1  1  1 |  0  0\n",
      " 2  +3.461e+04  +2.767e+04  +3e+06  6e-01  3e-01  1e+02  1e+02  0.4898  6e-01   1  1  1 |  0  0\n",
      " 3  +7.899e+04  +7.771e+04  +5e+05  9e-02  6e-02  3e+01  3e+01  0.8322  2e-02   1  1  1 |  0  0\n",
      " 4  +1.198e+05  +1.189e+05  +2e+05  6e-02  5e-02  7e+01  9e+00  0.9157  3e-01   1  1  1 |  0  0\n",
      " 5  +1.467e+05  +1.464e+05  +3e+04  2e-02  2e-02  8e+01  2e+00  0.9343  1e-01   1  1  1 |  0  0\n",
      " 6  +1.481e+05  +1.478e+05  +3e+04  2e-02  2e-02  9e+01  1e+00  0.2641  6e-01   1  1  2 |  0  0\n",
      " 7  +1.457e+05  +1.455e+05  +1e+04  2e-02  2e-02  1e+02  7e-01  0.8595  4e-01   1  2  1 |  0  0\n",
      " 8  +1.476e+05  +1.476e+05  +2e+03  6e-03  6e-03  1e+02  1e-01  0.8654  2e-02   2  1  1 |  0  0\n",
      " 9  +1.202e+05  +1.202e+05  +1e+03  5e-03  5e-03  1e+02  6e-02  0.7242  4e-01   2  2  2 |  0  0\n",
      "10  +6.806e+04  +6.811e+04  +3e+02  2e-03  2e-03  8e+01  1e-02  0.9890  2e-01   1  2  1 |  0  0\n",
      "11  +5.645e+04  +5.650e+04  +2e+02  1e-03  2e-03  7e+01  1e-02  0.4891  4e-01   1  2  1 |  0  0\n",
      "12  +3.218e+04  +3.220e+04  +6e+01  5e-04  6e-04  3e+01  3e-03  0.8135  1e-01   2  2  2 |  0  0\n",
      "13  +3.244e+04  +3.245e+04  +5e+01  5e-04  6e-04  3e+01  3e-03  0.2620  6e-01   3  3  3 |  0  0\n",
      "14  +2.769e+04  +2.770e+04  +1e+01  1e-04  2e-04  1e+01  7e-04  0.8431  1e-01   2  3  2 |  0  0\n",
      "15  +2.829e+04  +2.829e+04  +5e+00  6e-05  1e-04  5e+00  3e-04  0.6789  2e-01   2  2  2 |  0  0\n",
      "16  +2.832e+04  +2.833e+04  +5e+00  6e-05  1e-04  5e+00  3e-04  0.0795  8e-01   2  2  2 |  0  0\n",
      "17  +2.887e+04  +2.887e+04  +2e+00  2e-05  5e-05  2e+00  1e-04  0.7736  2e-01   2  2  2 |  0  0\n",
      "18  +2.889e+04  +2.889e+04  +2e+00  2e-05  5e-05  2e+00  1e-04  0.1465  6e-01   2  3  3 |  0  0\n",
      "19  +2.888e+04  +2.889e+04  +2e+00  2e-05  5e-05  2e+00  1e-04  0.0312  8e-01   2  3  3 |  0  0\n",
      "20  +2.890e+04  +2.891e+04  +2e+00  2e-05  4e-05  2e+00  9e-05  0.2713  6e-01   2  2  2 |  0  0\n",
      "21  +2.930e+04  +2.930e+04  +2e-01  2e-06  6e-06  2e-01  9e-06  0.9890  9e-02   2  2  3 |  0  0\n",
      "22  +2.935e+04  +2.935e+04  +4e-02  5e-07  1e-06  4e-02  2e-06  0.9890  2e-01   2  2  2 |  0  0\n",
      "23  +2.937e+04  +2.937e+04  +5e-04  1e-08  4e-07  5e-04  3e-08  0.9879  1e-04   2  3  3 |  0  0\n",
      "24  +2.937e+04  +2.937e+04  +6e-06  2e-08  2e-08  7e-06  3e-10  0.9890  3e-03   2  2  1 |  0  0\n",
      "25  +2.937e+04  +2.937e+04  +8e-08  2e-08  6e-10  8e-08  4e-12  0.9880  3e-04   1  2  2 |  0  0\n",
      "26  +2.937e+04  +2.937e+04  +8e-08  4e-03  9e-10  8e-08  4e-12  0.0000  1e+00   3  1  8 |  0  0\n",
      "Unreliable search direction detected, recovering best iterate (23) and stopping.\n",
      "\n",
      "Close to OPTIMAL (within feastol=4.4e-07, reltol=1.6e-08, abstol=4.7e-04).\n",
      "Runtime: 1.114254 seconds.\n",
      "\n",
      "Optimal value 29368.556878784562\n",
      "Status : optimal_inaccurate\n",
      "alpha =  [18.7032569]\n",
      "beta =  [16.53409381]\n",
      "gamma =  [19.19216521]\n",
      "Real center:  [19.23849954 17.01607495 19.76690988]\n"
     ]
    }
   ],
   "source": [
    "# Solving\n",
    "prob.solve(solver = cp.ECOS, verbose = True, max_iters=100)\n",
    "\n",
    "print(\"Optimal value\", prob.value)\n",
    "print(\"Status :\", prob.status)\n",
    "\n",
    "print(\"alpha = \", alpha.value) \n",
    "print(\"beta = \", beta.value) \n",
    "print(\"gamma = \", gamma.value) \n",
    "\n",
    "print(\"Real center: \", center*nx)"
   ]
  },
  {
   "cell_type": "code",
   "execution_count": 167,
   "metadata": {},
   "outputs": [
    {
     "data": {
      "image/png": "[encoded data removed]",
      "text/plain": [
       "<Figure size 1440x720 with 1 Axes>"
      ]
     },
     "metadata": {
      "needs_background": "light"
     },
     "output_type": "display_data"
    },
    {
     "data": {
      "image/png": "[encoded data removed]",
      "text/plain": [
       "<Figure size 1440x720 with 1 Axes>"
      ]
     },
     "metadata": {
      "needs_background": "light"
     },
     "output_type": "display_data"
    },
    {
     "data": {
      "image/png": "[encoded data removed]",
      "text/plain": [
       "<Figure size 1440x720 with 1 Axes>"
      ]
     },
     "metadata": {
      "needs_background": "light"
     },
     "output_type": "display_data"
    },
    {
     "data": {
      "image/png": "[encoded data removed]",
      "text/plain": [
       "<Figure size 1440x720 with 1 Axes>"
      ]
     },
     "metadata": {
      "needs_background": "light"
     },
     "output_type": "display_data"
    },
    {
     "data": {
      "image/png": "[encoded data removed]",
      "text/plain": [
       "<Figure size 1440x720 with 1 Axes>"
      ]
     },
     "metadata": {
      "needs_background": "light"
     },
     "output_type": "display_data"
    },
    {
     "data": {
      "image/png": "[encoded data removed]",
      "text/plain": [
       "<Figure size 1440x720 with 1 Axes>"
      ]
     },
     "metadata": {
      "needs_background": "light"
     },
     "output_type": "display_data"
    },
    {
     "data": {
      "image/png": "[encoded data removed]",
      "text/plain": [
       "<Figure size 1440x720 with 1 Axes>"
      ]
     },
     "metadata": {
      "needs_background": "light"
     },
     "output_type": "display_data"
    },
    {
     "data": {
      "image/png": "[encoded data removed]",
      "text/plain": [
       "<Figure size 1440x720 with 1 Axes>"
      ]
     },
     "metadata": {
      "needs_background": "light"
     },
     "output_type": "display_data"
    },
    {
     "data": {
      "image/png": "[encoded data removed]",
      "text/plain": [
       "<Figure size 1440x720 with 1 Axes>"
      ]
     },
     "metadata": {
      "needs_background": "light"
     },
     "output_type": "display_data"
    }
   ],
   "source": [
    "Z = int(nz*center[2])\n",
    "\n",
    "for i in range(-8,9,2):\n",
    "    plt.figure(figsize=(20,10))\n",
    "    plt.imshow(particle[:,:,Z+i])\n",
    "    plt.scatter([nx*center[1]],[ny*center[0]], marker=\"x\")\n",
    "    plt.scatter([beta.value],[alpha.value], marker=\"x\", color='red')\n",
    "    plt.show()"
   ]
  },
  {
   "cell_type": "code",
   "execution_count": 11,
   "metadata": {},
   "outputs": [
    {
     "data": {
      "text/plain": [
       "array([1., 3., 1., 1.])"
      ]
     },
     "execution_count": 11,
     "metadata": {},
     "output_type": "execute_result"
    }
   ],
   "source": [
    "import numpy as np\n",
    "a = np.array([1])\n",
    "b = [3]\n",
    "c= np.ones(2)\n",
    "np.concatenate((a,b,c))\n"
   ]
  },
  {
   "cell_type": "markdown",
   "metadata": {},
   "source": [
    "## Methode de Newton"
   ]
  },
  {
   "cell_type": "code",
   "execution_count": 591,
   "metadata": {},
   "outputs": [],
   "source": [
    "import numpy as np\n",
    "import matplotlib.pyplot as plt\n",
    "\n",
    "# Centering step\n",
    "\n",
    "# fonction à minimiser\n",
    "def fct(listA, listb):\n",
    "    m = len(listA)\n",
    "    def f(v): \n",
    "        return np.sum([np.linalg.norm(listA[i]@v - listb[i])**2 for i in range(m)])/2\n",
    "    return f\n",
    "\n",
    "# v = np.concatenate((alpha, beta, gamma, xsi, eta))\n",
    "\n",
    "\n",
    "# Fonction avec barrière:\n",
    "def fct_bar(listA, listb, z, R, d, t): # t est le paramètre de barrière\n",
    "    m = len(listA)\n",
    "    def f(v):\n",
    "        constr1 = v[4:]\n",
    "        constr2 = -(v[4:] + (v[2]-z)**2 - R**2)\n",
    "        constr3 = [-(v[0]**2 + v[1]**2 - v[3])]\n",
    "        constr4 = [-(v[3] - d**2)]\n",
    "        constr = np.concatenate((constr1,constr2,constr3,constr4))\n",
    "        if np.min(constr) <= 0:\n",
    "            #raise NameError(\"v non admissible\")\n",
    "            return np.inf\n",
    "        else:\n",
    "            return np.sum([np.linalg.norm(listA[i]@v - listb[i])**2 for i in range(m)])/2 - (1/t)*np.sum(np.log(constr))\n",
    "    return f\n",
    "\n",
    "\n",
    "\n",
    "# Gradient en v de la fonction à minimiser\n",
    "def grad_f(listA, listb, z, R, d, t, v):\n",
    "    n = len(v)\n",
    "    m = len(listA)\n",
    "    res = np.sum([listA[i].T@(listA[i]@v - listb[i]) for i in range(m)])\n",
    "    bar = np.zeros(n)\n",
    "    # terme dû à la fonction barrière pour constr3 et constr4\n",
    "    x = (-(v[0]**2 + v[1]**2 - v[3]))\n",
    "    bar[0] += -2*v[0]/x\n",
    "    bar[1] += -2*v[1]/x\n",
    "    bar[3] += 1/x - 1/(d**2-v[3])\n",
    "    for j in range(4,n):\n",
    "        u = v[j]\n",
    "        # terme dû à la fonction barrière pour constr1 et constr2\n",
    "        x = R**2 - u - (v[2]-z[j-4])**2\n",
    "        bar[2] += -2*(v[2]-z[j-4])/x\n",
    "        bar[j] += 1/u - 1/x   \n",
    "    return res - bar/t\n",
    "\n",
    "\n",
    "\n",
    "# Hessienne\n",
    "def hess_f(listA, listb, z, R, d, t, v):\n",
    "    n = len(v)\n",
    "    m = len(listA)\n",
    "    res = np.sum([listA[i].T@listA[i] for i in range(m)])\n",
    "    bar = np.zeros((n,n))\n",
    "    x = (v[0]**2 + v[1]**2 - v[3])**2\n",
    "    bar[0,0] += (-2*(v[3] - v[0]**2 - v[1]**2) - 4*v[0]**2)/x\n",
    "    bar[1,1] += (-2*(v[3] - v[0]**2 - v[1]**2) - 4*v[1]**2)/x\n",
    "    bar[3,3] += -1/x - 1/(v[3]-d**2)**2\n",
    "    b = -4*v[0]*v[1]/x\n",
    "    bar[0,1] += b\n",
    "    bar[1,0] += b\n",
    "    b = 2*v[0]/x\n",
    "    bar[0,3] += b\n",
    "    bar[3,0] += b\n",
    "    b = 2*v[1]/x\n",
    "    bar[1,3] += b\n",
    "    bar[3,1] += b\n",
    "    for j in range(4,n):\n",
    "        u = v[j]\n",
    "        # terme dû à la fonction barrière pour constr1 et constr2\n",
    "        x = (R**2 - u - (v[2]-z[j-4])**2)**2\n",
    "        bar[2,2] += (-2*(R**2 - u - (v[2]-z[j-4])**2) - 4*(v[2]-z[j-4])**2)/x\n",
    "        bar[j,j] += -1/u**2 - 1/x\n",
    "        b = 2*(v[2]-z[j-4])/x\n",
    "        bar[2,j] += b\n",
    "        bar[j,2] += b\n",
    "    return  res - bar/t\n",
    "\n",
    "\n",
    "\n",
    "\n",
    "\n",
    "# Backtracking line search\n",
    "def lineSearch(f,x,delta,grad,alpha,beta,t=1): # 0<alpha<1/2 et 0<beta<1\n",
    "    while f(x+t*delta) >= f(x) + alpha*t*(grad.T@delta) :\n",
    "        t = beta*t\n",
    "        #print(f(x+t*delta) - (f(x) + alpha*t*(grad.T@delta)))\n",
    "    return t\n",
    "\n",
    "# Centering step\n",
    "# On retourne la liste des points et des decr pour les graphes à la fin\n",
    "def centering_step(listA, listb, z, R, d, t, v0, crit, alpha = 0.4, beta = 0.9): # t et eps > 0\n",
    "    # méthode de Newton\n",
    "    res = [v0]\n",
    "    v = v0\n",
    "    decr = np.inf\n",
    "    liste_decr=[]\n",
    "    f = fct_bar(listA, listb, z, R, d, t)\n",
    "    grad = grad_f(listA, listb, z, R, d, t, v)\n",
    "    hess = hess_f(listA, listb, z, R, d, t, v)\n",
    "    hess_inv = np.linalg.inv(hess)\n",
    "    delta = -hess_inv@grad\n",
    "    decr = grad.T@hess_inv@grad\n",
    "    while decr/2 >= crit:\n",
    "        v = v + lineSearch(f,v,delta,grad,alpha,beta)*delta\n",
    "        res.append(v)\n",
    "        grad = grad_f(listA, listb, z, R, d, t, v)\n",
    "        hess = hess_f(listA, listb, z, R, d, t, v)\n",
    "        hess_inv = np.linalg.inv(hess)\n",
    "        delta = -hess_inv@grad\n",
    "        decr = grad.T@hess_inv@grad\n",
    "        liste_decr.append(decr)\n",
    "        #print(\"decr = \",decr)\n",
    "        print(delta)\n",
    "        print(\"v_cent = \",v)\n",
    "        #print(\"f_bar(v_cent) = \",f(v))\n",
    "    return (res,liste_decr)\n",
    "\n",
    "\n",
    "# Barrier method\n",
    "# On retourne la liste des points et des decr pour les graphes à la fin\n",
    "def barr_method(listA, listb, z, R, d, v0,eps, crit, alpha =0.4, beta = 0.9, t0 = 1, mu = 10): # t0, mu et eps > 0\n",
    "    res = [v0]\n",
    "    liste_decr = []\n",
    "    n = len(v0)\n",
    "    v = v0\n",
    "    t = t0\n",
    "    while n/t >= eps:\n",
    "        print(\"v = \",v)\n",
    "        print(\"f(v) = \",fct(listA,listb)(v))\n",
    "        (v, liste_decr_centering) = centering_step(listA, listb, z, R, d, t, v,crit, alpha, beta)\n",
    "        liste_decr+= liste_decr_centering\n",
    "        t = mu*t\n",
    "        res = res + v\n",
    "        v = v[-1]\n",
    "    return (res,liste_decr)"
   ]
  },
  {
   "cell_type": "code",
   "execution_count": 596,
   "metadata": {
    "scrolled": true
   },
   "outputs": [
    {
     "name": "stdout",
     "output_type": "stream",
     "text": [
      "v =  [  5.   5.   5. 150.   5.   5.   5.   5.]\n",
      "f(v) =  9950.0\n",
      "[ -2.68502809  -2.68502809  -1.70498168 -49.81418155   8.74881956\n",
      "   8.74881956   8.74881956   8.74881956]\n",
      "v_cent =  [  1.60479404   1.60479404  -1.68026392 120.10364228   9.84178795\n",
      "   9.84178795   9.84178795   9.84178795]\n",
      "[  1.02319135   1.02319135  -4.43824266 -55.18949021   9.66287016\n",
      "   9.66287016   9.66287016   9.66287016]\n",
      "v_cent =  [-1.08023405 -1.08023405 -3.3852456  70.28946073 18.5906075  18.5906075\n",
      " 18.5906075  18.5906075 ]\n",
      "[-0.26909424 -0.26909423 -4.09344619  5.91381329 -4.22603729 -4.22603729\n",
      " -4.22603729 -4.22603729]\n",
      "v_cent =  [-0.05704269 -0.05704269 -7.82348826 15.09997052 28.25347766 28.25347766\n",
      " 28.25347766 28.25347766]\n"
     ]
    },
    {
     "ename": "KeyboardInterrupt",
     "evalue": "",
     "output_type": "error",
     "traceback": [
      "\u001b[0;31m---------------------------------------------------------------------------\u001b[0m",
      "\u001b[0;31mKeyboardInterrupt\u001b[0m                         Traceback (most recent call last)",
      "\u001b[0;32m<ipython-input-596-84fa9404b80f>\u001b[0m in \u001b[0;36m<module>\u001b[0;34m\u001b[0m\n\u001b[1;32m     20\u001b[0m \u001b[0mcrit\u001b[0m\u001b[0;34m=\u001b[0m\u001b[0;36m100\u001b[0m\u001b[0;34m\u001b[0m\u001b[0;34m\u001b[0m\u001b[0m\n\u001b[1;32m     21\u001b[0m \u001b[0;34m\u001b[0m\u001b[0m\n\u001b[0;32m---> 22\u001b[0;31m \u001b[0mprint\u001b[0m\u001b[0;34m(\u001b[0m\u001b[0mbarr_method\u001b[0m\u001b[0;34m(\u001b[0m\u001b[0mlistA\u001b[0m\u001b[0;34m,\u001b[0m \u001b[0mlistb\u001b[0m\u001b[0;34m,\u001b[0m \u001b[0mz\u001b[0m\u001b[0;34m,\u001b[0m \u001b[0mR\u001b[0m\u001b[0;34m,\u001b[0m \u001b[0md\u001b[0m\u001b[0;34m,\u001b[0m \u001b[0mv0\u001b[0m\u001b[0;34m,\u001b[0m\u001b[0meps\u001b[0m\u001b[0;34m,\u001b[0m\u001b[0mcrit\u001b[0m\u001b[0;34m,\u001b[0m\u001b[0mt0\u001b[0m\u001b[0;34m=\u001b[0m\u001b[0;36m10\u001b[0m\u001b[0;34m,\u001b[0m\u001b[0mmu\u001b[0m\u001b[0;34m=\u001b[0m\u001b[0;36m10\u001b[0m\u001b[0;34m)\u001b[0m\u001b[0;34m[\u001b[0m\u001b[0;36m0\u001b[0m\u001b[0;34m]\u001b[0m\u001b[0;34m[\u001b[0m\u001b[0;34m-\u001b[0m\u001b[0;36m1\u001b[0m\u001b[0;34m]\u001b[0m\u001b[0;34m)\u001b[0m\u001b[0;34m\u001b[0m\u001b[0;34m\u001b[0m\u001b[0m\n\u001b[0m",
      "\u001b[0;32m<ipython-input-591-ab79d0fadce7>\u001b[0m in \u001b[0;36mbarr_method\u001b[0;34m(listA, listb, z, R, d, v0, eps, crit, alpha, beta, t0, mu)\u001b[0m\n\u001b[1;32m    135\u001b[0m         \u001b[0mprint\u001b[0m\u001b[0;34m(\u001b[0m\u001b[0;34m\"v = \"\u001b[0m\u001b[0;34m,\u001b[0m\u001b[0mv\u001b[0m\u001b[0;34m)\u001b[0m\u001b[0;34m\u001b[0m\u001b[0;34m\u001b[0m\u001b[0m\n\u001b[1;32m    136\u001b[0m         \u001b[0mprint\u001b[0m\u001b[0;34m(\u001b[0m\u001b[0;34m\"f(v) = \"\u001b[0m\u001b[0;34m,\u001b[0m\u001b[0mfct\u001b[0m\u001b[0;34m(\u001b[0m\u001b[0mlistA\u001b[0m\u001b[0;34m,\u001b[0m\u001b[0mlistb\u001b[0m\u001b[0;34m)\u001b[0m\u001b[0;34m(\u001b[0m\u001b[0mv\u001b[0m\u001b[0;34m)\u001b[0m\u001b[0;34m)\u001b[0m\u001b[0;34m\u001b[0m\u001b[0;34m\u001b[0m\u001b[0m\n\u001b[0;32m--> 137\u001b[0;31m         \u001b[0;34m(\u001b[0m\u001b[0mv\u001b[0m\u001b[0;34m,\u001b[0m \u001b[0mliste_decr_centering\u001b[0m\u001b[0;34m)\u001b[0m \u001b[0;34m=\u001b[0m \u001b[0mcentering_step\u001b[0m\u001b[0;34m(\u001b[0m\u001b[0mlistA\u001b[0m\u001b[0;34m,\u001b[0m \u001b[0mlistb\u001b[0m\u001b[0;34m,\u001b[0m \u001b[0mz\u001b[0m\u001b[0;34m,\u001b[0m \u001b[0mR\u001b[0m\u001b[0;34m,\u001b[0m \u001b[0md\u001b[0m\u001b[0;34m,\u001b[0m \u001b[0mt\u001b[0m\u001b[0;34m,\u001b[0m \u001b[0mv\u001b[0m\u001b[0;34m,\u001b[0m\u001b[0mcrit\u001b[0m\u001b[0;34m,\u001b[0m \u001b[0malpha\u001b[0m\u001b[0;34m,\u001b[0m \u001b[0mbeta\u001b[0m\u001b[0;34m)\u001b[0m\u001b[0;34m\u001b[0m\u001b[0;34m\u001b[0m\u001b[0m\n\u001b[0m\u001b[1;32m    138\u001b[0m         \u001b[0mliste_decr\u001b[0m\u001b[0;34m+=\u001b[0m \u001b[0mliste_decr_centering\u001b[0m\u001b[0;34m\u001b[0m\u001b[0;34m\u001b[0m\u001b[0m\n\u001b[1;32m    139\u001b[0m         \u001b[0mt\u001b[0m \u001b[0;34m=\u001b[0m \u001b[0mmu\u001b[0m\u001b[0;34m*\u001b[0m\u001b[0mt\u001b[0m\u001b[0;34m\u001b[0m\u001b[0;34m\u001b[0m\u001b[0m\n",
      "\u001b[0;32m<ipython-input-591-ab79d0fadce7>\u001b[0m in \u001b[0;36mcentering_step\u001b[0;34m(listA, listb, z, R, d, t, v0, crit, alpha, beta)\u001b[0m\n\u001b[1;32m    109\u001b[0m     \u001b[0mdecr\u001b[0m \u001b[0;34m=\u001b[0m \u001b[0mgrad\u001b[0m\u001b[0;34m.\u001b[0m\u001b[0mT\u001b[0m\u001b[0;34m@\u001b[0m\u001b[0mhess_inv\u001b[0m\u001b[0;34m@\u001b[0m\u001b[0mgrad\u001b[0m\u001b[0;34m\u001b[0m\u001b[0;34m\u001b[0m\u001b[0m\n\u001b[1;32m    110\u001b[0m     \u001b[0;32mwhile\u001b[0m \u001b[0mdecr\u001b[0m\u001b[0;34m/\u001b[0m\u001b[0;36m2\u001b[0m \u001b[0;34m>=\u001b[0m \u001b[0mcrit\u001b[0m\u001b[0;34m:\u001b[0m\u001b[0;34m\u001b[0m\u001b[0;34m\u001b[0m\u001b[0m\n\u001b[0;32m--> 111\u001b[0;31m         \u001b[0mv\u001b[0m \u001b[0;34m=\u001b[0m \u001b[0mv\u001b[0m \u001b[0;34m+\u001b[0m \u001b[0mlineSearch\u001b[0m\u001b[0;34m(\u001b[0m\u001b[0mf\u001b[0m\u001b[0;34m,\u001b[0m\u001b[0mv\u001b[0m\u001b[0;34m,\u001b[0m\u001b[0mdelta\u001b[0m\u001b[0;34m,\u001b[0m\u001b[0mgrad\u001b[0m\u001b[0;34m,\u001b[0m\u001b[0malpha\u001b[0m\u001b[0;34m,\u001b[0m\u001b[0mbeta\u001b[0m\u001b[0;34m)\u001b[0m\u001b[0;34m*\u001b[0m\u001b[0mdelta\u001b[0m\u001b[0;34m\u001b[0m\u001b[0;34m\u001b[0m\u001b[0m\n\u001b[0m\u001b[1;32m    112\u001b[0m         \u001b[0mres\u001b[0m\u001b[0;34m.\u001b[0m\u001b[0mappend\u001b[0m\u001b[0;34m(\u001b[0m\u001b[0mv\u001b[0m\u001b[0;34m)\u001b[0m\u001b[0;34m\u001b[0m\u001b[0;34m\u001b[0m\u001b[0m\n\u001b[1;32m    113\u001b[0m         \u001b[0mgrad\u001b[0m \u001b[0;34m=\u001b[0m \u001b[0mgrad_f\u001b[0m\u001b[0;34m(\u001b[0m\u001b[0mlistA\u001b[0m\u001b[0;34m,\u001b[0m \u001b[0mlistb\u001b[0m\u001b[0;34m,\u001b[0m \u001b[0mz\u001b[0m\u001b[0;34m,\u001b[0m \u001b[0mR\u001b[0m\u001b[0;34m,\u001b[0m \u001b[0md\u001b[0m\u001b[0;34m,\u001b[0m \u001b[0mt\u001b[0m\u001b[0;34m,\u001b[0m \u001b[0mv\u001b[0m\u001b[0;34m)\u001b[0m\u001b[0;34m\u001b[0m\u001b[0;34m\u001b[0m\u001b[0m\n",
      "\u001b[0;32m<ipython-input-591-ab79d0fadce7>\u001b[0m in \u001b[0;36mlineSearch\u001b[0;34m(f, x, delta, grad, alpha, beta, t)\u001b[0m\n\u001b[1;32m     89\u001b[0m \u001b[0;31m# Backtracking line search\u001b[0m\u001b[0;34m\u001b[0m\u001b[0;34m\u001b[0m\u001b[0;34m\u001b[0m\u001b[0m\n\u001b[1;32m     90\u001b[0m \u001b[0;32mdef\u001b[0m \u001b[0mlineSearch\u001b[0m\u001b[0;34m(\u001b[0m\u001b[0mf\u001b[0m\u001b[0;34m,\u001b[0m\u001b[0mx\u001b[0m\u001b[0;34m,\u001b[0m\u001b[0mdelta\u001b[0m\u001b[0;34m,\u001b[0m\u001b[0mgrad\u001b[0m\u001b[0;34m,\u001b[0m\u001b[0malpha\u001b[0m\u001b[0;34m,\u001b[0m\u001b[0mbeta\u001b[0m\u001b[0;34m,\u001b[0m\u001b[0mt\u001b[0m\u001b[0;34m=\u001b[0m\u001b[0;36m1\u001b[0m\u001b[0;34m)\u001b[0m\u001b[0;34m:\u001b[0m \u001b[0;31m# 0<alpha<1/2 et 0<beta<1\u001b[0m\u001b[0;34m\u001b[0m\u001b[0;34m\u001b[0m\u001b[0m\n\u001b[0;32m---> 91\u001b[0;31m     \u001b[0;32mwhile\u001b[0m \u001b[0mf\u001b[0m\u001b[0;34m(\u001b[0m\u001b[0mx\u001b[0m\u001b[0;34m+\u001b[0m\u001b[0mt\u001b[0m\u001b[0;34m*\u001b[0m\u001b[0mdelta\u001b[0m\u001b[0;34m)\u001b[0m \u001b[0;34m>=\u001b[0m \u001b[0mf\u001b[0m\u001b[0;34m(\u001b[0m\u001b[0mx\u001b[0m\u001b[0;34m)\u001b[0m \u001b[0;34m+\u001b[0m \u001b[0malpha\u001b[0m\u001b[0;34m*\u001b[0m\u001b[0mt\u001b[0m\u001b[0;34m*\u001b[0m\u001b[0;34m(\u001b[0m\u001b[0mgrad\u001b[0m\u001b[0;34m.\u001b[0m\u001b[0mT\u001b[0m\u001b[0;34m@\u001b[0m\u001b[0mdelta\u001b[0m\u001b[0;34m)\u001b[0m \u001b[0;34m:\u001b[0m\u001b[0;34m\u001b[0m\u001b[0;34m\u001b[0m\u001b[0m\n\u001b[0m\u001b[1;32m     92\u001b[0m         \u001b[0mt\u001b[0m \u001b[0;34m=\u001b[0m \u001b[0mbeta\u001b[0m\u001b[0;34m*\u001b[0m\u001b[0mt\u001b[0m\u001b[0;34m\u001b[0m\u001b[0;34m\u001b[0m\u001b[0m\n\u001b[1;32m     93\u001b[0m         \u001b[0;31m#print(f(x+t*delta) - (f(x) + alpha*t*(grad.T@delta)))\u001b[0m\u001b[0;34m\u001b[0m\u001b[0;34m\u001b[0m\u001b[0;34m\u001b[0m\u001b[0m\n",
      "\u001b[0;31mKeyboardInterrupt\u001b[0m: "
     ]
    }
   ],
   "source": [
    "#test\n",
    "\n",
    "n = 8\n",
    "listA = [np.eye(n)]\n",
    "\n",
    "listA[0][2,2]=0\n",
    "listA[0][0,0]=0\n",
    "listA[0][1,1]=0\n",
    "b = np.ones(n)*10\n",
    "b[2]=0\n",
    "\n",
    "listb = [b]\n",
    "R=50\n",
    "d=60\n",
    "z = np.zeros(n-4)\n",
    "v0 = np.ones(n)*5\n",
    "v0[3]=150\n",
    "\n",
    "eps=0.001\n",
    "crit=100\n",
    "\n",
    "print(barr_method(listA, listb, z, R, d, v0,eps,crit,t0=10,mu=10)[0][-1])"
   ]
  },
  {
   "cell_type": "code",
   "execution_count": null,
   "metadata": {},
   "outputs": [],
   "source": []
  },
  {
   "cell_type": "code",
   "execution_count": null,
   "metadata": {},
   "outputs": [],
   "source": []
  }
 ],
 "metadata": {
  "kernelspec": {
   "display_name": "Python 3",
   "language": "python",
   "name": "python3"
  },
  "language_info": {
   "codemirror_mode": {
    "name": "ipython",
    "version": 3
   },
   "file_extension": ".py",
   "mimetype": "text/x-python",
   "name": "python",
   "nbconvert_exporter": "python",
   "pygments_lexer": "ipython3",
   "version": "3.8.3"
  }
 },
 "nbformat": 4,
 "nbformat_minor": 4
}
